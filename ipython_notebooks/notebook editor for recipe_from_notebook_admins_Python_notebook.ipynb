{
  "nbformat": 4,
  "nbformat_minor": 0,
  "metadata": {
    "kernelspec": {
      "display_name": "Python 3",
      "language": "python",
      "name": "python3"
    },
    "associatedRecipe": "recipe_from_notebook_admins_Python_notebook",
    "creator": "admin",
    "createdOn": 1645278464937,
    "tags": [
      "recipe-editor"
    ],
    "customFields": {}
  },
  "cells": [
    {
      "cell_type": "code",
      "metadata": {},
      "outputs": [],
      "execution_count": 0,
      "source": [
        "%pylab inline"
      ]
    },
    {
      "cell_type": "code",
      "metadata": {},
      "outputs": [],
      "execution_count": 0,
      "source": [
        "import dataiku\n",
        "from dataiku import pandasutils as pdu\n",
        "import pandas as pd"
      ]
    },
    {
      "cell_type": "code",
      "metadata": {},
      "outputs": [],
      "execution_count": 0,
      "source": [
        "# Example: load a DSS dataset as a Pandas dataframe\n",
        "mydataset \u003d dataiku.Dataset(\"mydataset\")\n",
        "mydataset_df \u003d mydataset.get_dataframe()"
      ]
    }
  ]
}